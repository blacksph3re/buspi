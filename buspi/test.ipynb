{
 "cells": [
  {
   "cell_type": "code",
   "execution_count": null,
   "metadata": {},
   "outputs": [],
   "source": [
    "import requests\n",
    "from dataclasses import dataclass\n",
    "from datetime import datetime\n",
    "from dateutil import parser\n",
    "from buspi.get_data import get_next_departures, print_departures\n"
   ]
  },
  {
   "cell_type": "code",
   "execution_count": 2,
   "metadata": {},
   "outputs": [],
   "source": [
    "STOP = \"900046301\""
   ]
  },
  {
   "cell_type": "code",
   "execution_count": 41,
   "metadata": {},
   "outputs": [
    {
     "data": {
      "text/plain": [
       "19"
      ]
     },
     "execution_count": 41,
     "metadata": {},
     "output_type": "execute_result"
    }
   ],
   "source": [
    "res = requests.get(f\"https://v6.vbb.transport.rest/stops/{STOP}/departures?results=100&duration=40\")\n",
    "data = res.json()\n",
    "len(data[\"departures\"])"
   ]
  },
  {
   "cell_type": "code",
   "execution_count": 2,
   "metadata": {},
   "outputs": [
    {
     "data": {
      "text/plain": [
       "[Departure(direction='S Grunewald', line='186', when=datetime.datetime(2024, 9, 20, 20, 16, tzinfo=tzoffset(None, 7200))),\n",
       " Departure(direction='S Lichterfelde Süd', line='186', when=datetime.datetime(2024, 9, 20, 20, 21, tzinfo=tzoffset(None, 7200))),\n",
       " Departure(direction='S+U Zoologischer Garten', line='249', when=datetime.datetime(2024, 9, 20, 20, 21, tzinfo=tzoffset(None, 7200))),\n",
       " Departure(direction='Grunewald, Roseneck', line='186', when=datetime.datetime(2024, 9, 20, 20, 22, tzinfo=tzoffset(None, 7200))),\n",
       " Departure(direction='U Oskar-Helene-Heim', line='110', when=datetime.datetime(2024, 9, 20, 20, 25, tzinfo=tzoffset(None, 7200))),\n",
       " Departure(direction='S+U Rathaus Steglitz', line='186', when=datetime.datetime(2024, 9, 20, 20, 29, tzinfo=tzoffset(None, 7200))),\n",
       " Departure(direction='S+U Zoologischer Garten', line='110', when=datetime.datetime(2024, 9, 20, 20, 30, tzinfo=tzoffset(None, 7200))),\n",
       " Departure(direction='Grunewald, Roseneck', line='249', when=datetime.datetime(2024, 9, 20, 20, 33, tzinfo=tzoffset(None, 7200))),\n",
       " Departure(direction='S Grunewald', line='186', when=datetime.datetime(2024, 9, 20, 20, 35, tzinfo=tzoffset(None, 7200))),\n",
       " Departure(direction='S Lichterfelde Süd', line='186', when=datetime.datetime(2024, 9, 20, 20, 41, tzinfo=tzoffset(None, 7200))),\n",
       " Departure(direction='S+U Zoologischer Garten', line='249', when=datetime.datetime(2024, 9, 20, 20, 41, tzinfo=tzoffset(None, 7200))),\n",
       " Departure(direction='Grunewald, Roseneck', line='186', when=datetime.datetime(2024, 9, 20, 20, 43, tzinfo=tzoffset(None, 7200))),\n",
       " Departure(direction='U Oskar-Helene-Heim', line='110', when=datetime.datetime(2024, 9, 20, 20, 46, tzinfo=tzoffset(None, 7200))),\n",
       " Departure(direction='S+U Zoologischer Garten', line='110', when=datetime.datetime(2024, 9, 20, 20, 50, tzinfo=tzoffset(None, 7200))),\n",
       " Departure(direction='S+U Rathaus Steglitz', line='186', when=datetime.datetime(2024, 9, 20, 20, 51, tzinfo=tzoffset(None, 7200))),\n",
       " Departure(direction='Grunewald, Roseneck', line='249', when=datetime.datetime(2024, 9, 20, 20, 51, tzinfo=tzoffset(None, 7200))),\n",
       " Departure(direction='S Grunewald', line='186', when=datetime.datetime(2024, 9, 20, 20, 54, tzinfo=tzoffset(None, 7200))),\n",
       " Departure(direction='S Lichterfelde Süd', line='186', when=datetime.datetime(2024, 9, 20, 21, 1, tzinfo=tzoffset(None, 7200))),\n",
       " Departure(direction='S+U Zoologischer Garten', line='249', when=datetime.datetime(2024, 9, 20, 21, 1, tzinfo=tzoffset(None, 7200))),\n",
       " Departure(direction='Grunewald, Roseneck', line='186', when=datetime.datetime(2024, 9, 20, 21, 4, tzinfo=tzoffset(None, 7200))),\n",
       " Departure(direction='U Oskar-Helene-Heim', line='110', when=datetime.datetime(2024, 9, 20, 21, 9, tzinfo=tzoffset(None, 7200))),\n",
       " Departure(direction='S+U Zoologischer Garten', line='110', when=datetime.datetime(2024, 9, 20, 21, 10, tzinfo=tzoffset(None, 7200))),\n",
       " Departure(direction='Grunewald, Roseneck', line='249', when=datetime.datetime(2024, 9, 20, 21, 11, tzinfo=tzoffset(None, 7200))),\n",
       " Departure(direction='S Grunewald', line='186', when=datetime.datetime(2024, 9, 20, 21, 14, tzinfo=tzoffset(None, 7200)))]"
      ]
     },
     "execution_count": 2,
     "metadata": {},
     "output_type": "execute_result"
    }
   ],
   "source": [
    "get_next_departures()"
   ]
  },
  {
   "cell_type": "code",
   "execution_count": 34,
   "metadata": {},
   "outputs": [],
   "source": [
    "@dataclass\n",
    "class Departure:\n",
    "  direction: str\n",
    "  line: str\n",
    "  when: datetime"
   ]
  },
  {
   "cell_type": "code",
   "execution_count": null,
   "metadata": {},
   "outputs": [],
   "source": [
    "departure_parsed = Departure(\n",
    "  direction = departure[\"direction\"]\n",
    "  line = departure[\"line\"][\"name\"]\n",
    "  when = parser.parse(departure[\"when\"])\n",
    ")"
   ]
  },
  {
   "cell_type": "code",
   "execution_count": 30,
   "metadata": {},
   "outputs": [
    {
     "data": {
      "text/plain": [
       "'2024-09-20T20:02:00+02:00'"
      ]
     },
     "execution_count": 30,
     "metadata": {},
     "output_type": "execute_result"
    }
   ],
   "source": [
    "res.json()[\"departures\"][0][\"when\"]"
   ]
  },
  {
   "cell_type": "code",
   "execution_count": 33,
   "metadata": {},
   "outputs": [
    {
     "data": {
      "text/plain": [
       "datetime.datetime(2024, 9, 20, 20, 2, tzinfo=tzoffset(None, 7200))"
      ]
     },
     "execution_count": 33,
     "metadata": {},
     "output_type": "execute_result"
    }
   ],
   "source": [
    "parser.parse(res.json()[\"departures\"][0][\"when\"])\n"
   ]
  },
  {
   "cell_type": "code",
   "execution_count": null,
   "metadata": {},
   "outputs": [],
   "source": []
  }
 ],
 "metadata": {
  "kernelspec": {
   "display_name": "Python 3",
   "language": "python",
   "name": "python3"
  },
  "language_info": {
   "codemirror_mode": {
    "name": "ipython",
    "version": 3
   },
   "file_extension": ".py",
   "mimetype": "text/x-python",
   "name": "python",
   "nbconvert_exporter": "python",
   "pygments_lexer": "ipython3",
   "version": "3.12.3"
  }
 },
 "nbformat": 4,
 "nbformat_minor": 2
}
